{
 "cells": [
  {
   "cell_type": "code",
   "execution_count": 2,
   "id": "5fbe5c9e",
   "metadata": {},
   "outputs": [],
   "source": [
    "import pandas as pd\n",
    "import ast\n",
    "import re"
   ]
  },
  {
   "cell_type": "code",
   "execution_count": 4,
   "id": "09df8db4",
   "metadata": {},
   "outputs": [],
   "source": [
    "df_original = pd.read_csv('olympic_results.csv')\n",
    "\n",
    "df_medalhas = df_original[df_original['medal_type'].notna() & \n",
    "                          df_original['medal_type'].isin(['GOLD', 'SILVER', 'BRONZE'])].copy()\n",
    "\n",
    "def extrair_ano_inline(slug):\n",
    "    if isinstance(slug, str):\n",
    "        match = re.search(r'(\\d{4})$', slug)\n",
    "        if match:\n",
    "            return int(match.group(1))\n",
    "    return None\n",
    "\n",
    "df_medalhas.loc[:, 'year'] = df_medalhas['slug_game'].apply(extrair_ano_inline)\n",
    "df_medalhas.dropna(subset=['year'], inplace=True)\n",
    "df_medalhas.loc[:, 'year'] = df_medalhas['year'].astype(int)\n",
    "\n",
    "atletas_medalhas_lista = []\n",
    "\n",
    "for _, row in df_medalhas.iterrows():\n",
    "    year = row['year']\n",
    "    country_name = row['country_name']\n",
    "    medal_type = row['medal_type']\n",
    "    atletas_str = row['athletes']\n",
    "    \n",
    "    if pd.notna(atletas_str) and isinstance(atletas_str, str) and atletas_str.strip().startswith(\"[\"):\n",
    "        lista_atletas_tuplas = ast.literal_eval(atletas_str)\n",
    "        for atleta_tupla in lista_atletas_tuplas:\n",
    "            if isinstance(atleta_tupla, tuple) and len(atleta_tupla) > 0:\n",
    "                athlete_name = atleta_tupla[0]\n",
    "                atletas_medalhas_lista.append({\n",
    "                    'year': year,\n",
    "                    'country_name': country_name,\n",
    "                    'athlete_name': athlete_name,\n",
    "                    'medal_type': medal_type\n",
    "                })\n",
    "    elif pd.notna(row['athlete_full_name']) and row['participant_type'] == 'Athlete':\n",
    "        atletas_medalhas_lista.append({\n",
    "            'year': year,\n",
    "            'country_name': country_name,\n",
    "            'athlete_name': row['athlete_full_name'],\n",
    "            'medal_type': medal_type\n",
    "        })\n",
    "\n",
    "\n",
    "df_saida = pd.DataFrame(atletas_medalhas_lista)\n",
    "df_saida.to_csv('athlete_medals_by_edition.csv', index=False)"
   ]
  },
  {
   "cell_type": "code",
   "execution_count": null,
   "id": "147aa927",
   "metadata": {},
   "outputs": [],
   "source": []
  }
 ],
 "metadata": {
  "kernelspec": {
   "display_name": "Python 3",
   "language": "python",
   "name": "python3"
  },
  "language_info": {
   "codemirror_mode": {
    "name": "ipython",
    "version": 3
   },
   "file_extension": ".py",
   "mimetype": "text/x-python",
   "name": "python",
   "nbconvert_exporter": "python",
   "pygments_lexer": "ipython3",
   "version": "3.12.1"
  }
 },
 "nbformat": 4,
 "nbformat_minor": 5
}
